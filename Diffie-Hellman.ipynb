{
 "cells": [
  {
   "cell_type": "markdown",
   "metadata": {},
   "source": [
    "# Diffie Hellman Key Exchange\n",
    "## Setup:"
   ]
  },
  {
   "cell_type": "markdown",
   "metadata": {},
   "source": [
    "In this exercise we implement the Diffie-Hellman-Key-Exchange-Algorithm.\n",
    "First we import all dependecies and initialize some variables:"
   ]
  },
  {
   "cell_type": "code",
   "execution_count": 1,
   "metadata": {
    "collapsed": true
   },
   "outputs": [],
   "source": [
    "from random import randint\n",
    "upper = 200\n",
    "isprime = False"
   ]
  },
  {
   "cell_type": "markdown",
   "metadata": {},
   "source": [
    "Later on we need to randomly choose prime numbers, so we create a prime-number-function to check if a variable contains a prime number:"
   ]
  },
  {
   "cell_type": "code",
   "execution_count": 2,
   "metadata": {
    "collapsed": true
   },
   "outputs": [],
   "source": [
    "def checkprime(prime):\n",
    "\tfor num in range(3,(prime-1)):\n",
    "\t\tif(prime % num) == 0:\n",
    "\t\t\treturn False\n",
    "\t\telse:\n",
    "\t\t\treturn True"
   ]
  },
  {
   "cell_type": "markdown",
   "metadata": {
    "collapsed": true
   },
   "source": [
    "## Implementation:\n",
    "Create p (= prime) and q (q < p)"
   ]
  },
  {
   "cell_type": "code",
   "execution_count": 3,
   "metadata": {},
   "outputs": [
    {
     "name": "stdout",
     "output_type": "stream",
     "text": [
      "p = 17, q = 180\n",
      "\n"
     ]
    }
   ],
   "source": [
    "while(isprime == False):\n",
    "\tp = randint(2, upper)\n",
    "\tisprime = checkprime(p)\n",
    "\n",
    "g = randint(2,upper)\n",
    "while(g == p):\n",
    "\tg = randint(2,upper)\n",
    "    \n",
    "print(\"p = {}, q = {}\\n\".format(p, g))"
   ]
  },
  {
   "cell_type": "markdown",
   "metadata": {
    "collapsed": true
   },
   "source": [
    "Now we need to compute A and B. To do so we first have to initialize two random primes a(a < p) and b(b < p). Alice needs a, Bob needs b."
   ]
  },
  {
   "cell_type": "code",
   "execution_count": 4,
   "metadata": {},
   "outputs": [
    {
     "name": "stdout",
     "output_type": "stream",
     "text": [
      "a = 7, b = 10\n",
      "\n"
     ]
    }
   ],
   "source": [
    "isprime = False\t\n",
    "while(isprime == False):\n",
    "\ta = randint(1, p-1)\n",
    "\tisprime = checkprime(a)\n",
    "    \n",
    "isprime = False\t\n",
    "while(isprime == False):\n",
    "\tb = randint(1, p-1)\n",
    "\tisprime = checkprime(b)\n",
    "    \n",
    "print(\"a = {}, b = {}\\n\".format(a, b))"
   ]
  },
  {
   "cell_type": "markdown",
   "metadata": {},
   "source": [
    "Now we need to compute A (for alice) and B (for bob):\n",
    "$$A = g^a mod p $$\n",
    "$$B = g^b mod p $$"
   ]
  },
  {
   "cell_type": "code",
   "execution_count": 5,
   "metadata": {},
   "outputs": [
    {
     "name": "stdout",
     "output_type": "stream",
     "text": [
      "A = 5, B = 2\n",
      "\n"
     ]
    }
   ],
   "source": [
    "A = pow(g, a) % p\n",
    "B = pow(g, b) % p\n",
    "\n",
    "print(\"A = {}, B = {}\\n\".format(A, B))"
   ]
  },
  {
   "cell_type": "markdown",
   "metadata": {},
   "source": [
    "Alice will no compute secret 1 (key K1), Bob will compute secret 2 (key K2):\n",
    "$$K1 = B^a mod p$$\n",
    "$$K2 = A^b mod p$$"
   ]
  },
  {
   "cell_type": "code",
   "execution_count": 6,
   "metadata": {},
   "outputs": [
    {
     "name": "stdout",
     "output_type": "stream",
     "text": [
      "K1 = 9, K2 = 9\n",
      "\n"
     ]
    }
   ],
   "source": [
    "K1 = pow(B, a) % p\n",
    "K2 = pow(A, b) % p\n",
    "\n",
    "print(\"K1 = {}, K2 = {}\\n\".format(K1, K2))"
   ]
  },
  {
   "cell_type": "markdown",
   "metadata": {},
   "source": [
    "As one can see, K1 and K2 are the same. Now Alice and Bob have securely exchanged a shared key."
   ]
  }
 ],
 "metadata": {
  "kernelspec": {
   "display_name": "Python 3",
   "language": "python",
   "name": "python3"
  },
  "language_info": {
   "codemirror_mode": {
    "name": "ipython",
    "version": 3
   },
   "file_extension": ".py",
   "mimetype": "text/x-python",
   "name": "python",
   "nbconvert_exporter": "python",
   "pygments_lexer": "ipython3",
   "version": "3.6.1"
  }
 },
 "nbformat": 4,
 "nbformat_minor": 2
}
