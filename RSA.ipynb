{
 "cells": [
  {
   "cell_type": "markdown",
   "metadata": {},
   "source": [
    "# RSA"
   ]
  },
  {
   "cell_type": "markdown",
   "metadata": {},
   "source": [
    "## Setup:"
   ]
  },
  {
   "cell_type": "markdown",
   "metadata": {},
   "source": [
    "First, load all dependencies:<br>\n",
    "Note: Here we use Python **3.6**!"
   ]
  },
  {
   "cell_type": "code",
   "execution_count": 4,
   "metadata": {},
   "outputs": [],
   "source": [
    "from random import randint\n",
    "from math import gcd"
   ]
  },
  {
   "cell_type": "markdown",
   "metadata": {},
   "source": [
    "Define some functions we need afterwards:<br>\n",
    "> checkprime = Check if variable is a prime<br>\n",
    "getexp = Check if e and *φ(N)* have a common divisor<br>\n",
    "multinv = Used to get d (exponent of the private key) "
   ]
  },
  {
   "cell_type": "code",
   "execution_count": 5,
   "metadata": {
    "collapsed": true
   },
   "outputs": [],
   "source": [
    "def checkprime(prime):\n",
    "\tfor num in range(2,prime):\n",
    "\t\tif prime%num == 0:\n",
    "\t\t\treturn False\n",
    "\treturn True\n",
    "\n",
    "def getexp(phi_n):\n",
    "\tfor i in range(2, phi_n, 1):\n",
    "\t\tif (gcd(phi_n, i) == 1):\n",
    "\t\t\te = i\n",
    "\t\t\treturn e\n",
    "\n",
    "def multinv():\n",
    "\tfor d in range(3, phi_n, 2):\n",
    "\t\tif d * e % phi_n == 1:\n",
    "\t\t\tbreak;\t\n",
    "\treturn d"
   ]
  },
  {
   "cell_type": "markdown",
   "metadata": {},
   "source": [
    "Again we initialize some variables:"
   ]
  },
  {
   "cell_type": "code",
   "execution_count": 6,
   "metadata": {
    "collapsed": true
   },
   "outputs": [],
   "source": [
    "upper = 200\n",
    "isprime = False\n",
    "n = 0"
   ]
  },
  {
   "cell_type": "markdown",
   "metadata": {},
   "source": [
    "## Implementation"
   ]
  },
  {
   "cell_type": "markdown",
   "metadata": {},
   "source": [
    "### Create key pair"
   ]
  },
  {
   "cell_type": "markdown",
   "metadata": {},
   "source": [
    "Now we need to find two prime numbers (*p* and *q*).<br>\n",
    "**Note**: Later we will translate our message (each char) into *ASCII*. Therefore it is **extremely** important that n (we will later see what this is) is bigger than these values!<br>\n",
    "We will also create the variable *n*:<br>\n",
    ">p = prime<br>\n",
    "q = prime, while q != p<br>\n",
    "n = p * q"
   ]
  },
  {
   "cell_type": "code",
   "execution_count": 7,
   "metadata": {},
   "outputs": [
    {
     "name": "stdout",
     "output_type": "stream",
     "text": [
      "\tp = 191\tq = 61\tn = 11651\n"
     ]
    }
   ],
   "source": [
    "while n < 255:\n",
    "\twhile(isprime == False):\n",
    "\t\tp = randint(2, upper)\n",
    "\t\tisprime = checkprime(p)\n",
    "\tisprime = False\t\n",
    "\twhile(isprime == False):\n",
    "\t\tq = randint(2,upper)\n",
    "\t\twhile(q == p):\n",
    "\t\t\tq = randint(2,upper)\n",
    "\t\tisprime = checkprime(q)\n",
    "\tn = p * q\n",
    "\tprint(\"\\tp = {}\\tq = {}\\tn = {}\".format(p,q, n))"
   ]
  },
  {
   "cell_type": "markdown",
   "metadata": {},
   "source": [
    "Now we need to create *φ(N)*, also called *Euler's totient function*:\n",
    "$$φ(N) = (p - 1) * (q - 1)$$ "
   ]
  },
  {
   "cell_type": "code",
   "execution_count": 8,
   "metadata": {},
   "outputs": [
    {
     "name": "stdout",
     "output_type": "stream",
     "text": [
      "phi_n = 11400\n"
     ]
    }
   ],
   "source": [
    "phi_n = (p - 1) * (q - 1)\n",
    "print(\"phi_n = {}\".format(phi_n))"
   ]
  },
  {
   "cell_type": "markdown",
   "metadata": {},
   "source": [
    "Now we will complete the public key: (public key = *e* and *n*):<br>\n",
    "Therefore we need to compute *e*:<br>\n",
    "**Note:** e and phi_n mustn't have a same divisor!"
   ]
  },
  {
   "cell_type": "code",
   "execution_count": 9,
   "metadata": {},
   "outputs": [
    {
     "name": "stdout",
     "output_type": "stream",
     "text": [
      "e = 7\n"
     ]
    }
   ],
   "source": [
    "e = getexp(phi_n)\n",
    "print(\"e = {}\".format(e))"
   ]
  },
  {
   "cell_type": "markdown",
   "metadata": {},
   "source": [
    "Now comes the hardest part. Compute the inverse to *e*.<br>\n",
    "The variable we will call *d*.<br>\n",
    "We need to find a d, where $d * e * φ(N) == 1$.<br>\n",
    "We will use the function *multinv()* to get the value of d:"
   ]
  },
  {
   "cell_type": "code",
   "execution_count": 10,
   "metadata": {},
   "outputs": [
    {
     "name": "stdout",
     "output_type": "stream",
     "text": [
      "d = 8143\n",
      "\n"
     ]
    }
   ],
   "source": [
    "d = multinv()\n",
    "print(\"d = {}\\n\".format(d))"
   ]
  },
  {
   "cell_type": "markdown",
   "metadata": {},
   "source": [
    "### Encryption"
   ]
  },
  {
   "cell_type": "markdown",
   "metadata": {},
   "source": [
    "We will now encrypt a message. e.g \"Hello\":\n",
    "> String to char to ASCII<br>\n",
    "c = Normal text<br>\n",
    "$m = c ^ e mod n$"
   ]
  },
  {
   "cell_type": "code",
   "execution_count": 13,
   "metadata": {},
   "outputs": [
    {
     "name": "stdout",
     "output_type": "stream",
     "text": [
      "\t[Encrypt this text...] translated to ASCII[69, 110, 99, 114, 121, 112, 116, 32, 116, 104, 105, 115, 32, 116, 101, 120, 116, 46, 46, 46]\n",
      "\tEncrypted text: [2046, 629, 8808, 11191, 8600, 4671, 5117, 7288, 5117, 673, 9669, 8680, 7288, 5117, 21, 1214, 5117, 1686, 1686, 1686]\n",
      "\n"
     ]
    }
   ],
   "source": [
    "encrypted_text = []\n",
    "text = \"Encrypt this text...\"\n",
    "\n",
    "for i in text:\n",
    "\tencrypted_text.append(ord(i))\n",
    "print(\"\\t[{}] translated to ASCII{}\".format(text, encrypted_text))\n",
    "\n",
    "for i in range(0, len(encrypted_text)):\n",
    "\tencrypted_text[i] = pow(encrypted_text[i], e) % n\n",
    "print(\"\\tEncrypted text: {}\\n\".format(encrypted_text))"
   ]
  },
  {
   "cell_type": "markdown",
   "metadata": {},
   "source": [
    "### Decryption"
   ]
  },
  {
   "cell_type": "markdown",
   "metadata": {},
   "source": [
    "We will decrypt this message:<br>\n",
    ">c = Encrypted text<br>\n",
    "$m = c ^d mod n$"
   ]
  },
  {
   "cell_type": "code",
   "execution_count": 14,
   "metadata": {},
   "outputs": [
    {
     "name": "stdout",
     "output_type": "stream",
     "text": [
      "\tDecrypted text: Encrypt this text...\n"
     ]
    }
   ],
   "source": [
    "decrypted_text = []\n",
    "for i in range(0, len(encrypted_text)):\n",
    "\tdecrypted_temp = pow(encrypted_text[i], d) % n\n",
    "\tdecrypted_text.append(chr(int(decrypted_temp)))\n",
    "print(\"\\tDecrypted text: {}\".format(\"\".join(str(e) for e in decrypted_text)))"
   ]
  },
  {
   "cell_type": "code",
   "execution_count": null,
   "metadata": {
    "collapsed": true
   },
   "outputs": [],
   "source": []
  }
 ],
 "metadata": {
  "kernelspec": {
   "display_name": "Python 3",
   "language": "python",
   "name": "python3"
  },
  "language_info": {
   "codemirror_mode": {
    "name": "ipython",
    "version": 3
   },
   "file_extension": ".py",
   "mimetype": "text/x-python",
   "name": "python",
   "nbconvert_exporter": "python",
   "pygments_lexer": "ipython3",
   "version": "3.6.1"
  }
 },
 "nbformat": 4,
 "nbformat_minor": 2
}
